{
 "cells": [
  {
   "cell_type": "markdown",
   "metadata": {},
   "source": [
    "# Give Me Some Credit\n",
    "Wojciech Kasperski - Politechnika Poznańska - Informatyka - Rok 3 - Sem 5"
   ]
  },
  {
   "cell_type": "markdown",
   "metadata": {},
   "source": [
    "## Cylk pracy nad modelem:"
   ]
  },
  {
   "cell_type": "markdown",
   "metadata": {},
   "source": [
    "### Eksploracja danych\n",
    "- identyfikacja braków i nieprawidłowości w danych\n",
    "- poszukiwanie potencjalnych korelacji między cechami, a funkcją celu"
   ]
  },
  {
   "cell_type": "markdown",
   "metadata": {},
   "source": [
    "### Inżynieria cech (ang. feature engineering)\n",
    "- czyszczenie danych odstających (ang. outliers)\n",
    "- normalizacja\n",
    "- łączenie zbioru danych ze źródłami zewnętrznymi (np. pogoda, dzień tygodnia)\n",
    "- łączenie cech ze sobą (ang. feature crosses - np. szerokość i długość geograficzna)\n",
    "- różnego rodzaju przeształcenia (bucketzacja - zmiana cechy ciągłej na kategoryczną)\n"
   ]
  },
  {
   "cell_type": "markdown",
   "metadata": {},
   "source": [
    "### Stworzenie modelu\n",
    "- Wybranie algorytmu\n",
    "- Uczenie modelu\n",
    "- Weryfikacja wyników\n",
    "- Tuning hiperparametrów\n",
    "\n",
    "Zakładam, że samo stworznie modelu to będzie zwieńczeniem pracy, przede wszystkim postaram się na początek skupić na eksploracji, zrozumieniu danych i ewentualnej inżynierii cech, gdy napotkam problemy w danych."
   ]
  },
  {
   "cell_type": "markdown",
   "metadata": {},
   "source": [
    "## Eksploracja i normalizacja danych"
   ]
  },
  {
   "cell_type": "code",
   "execution_count": 1,
   "metadata": {},
   "outputs": [],
   "source": [
    "import pandas as pd\n",
    "import matplotlib.pyplot as plt\n",
    "import seaborn as sns\n",
    "import numpy as np\n",
    "%matplotlib inline"
   ]
  },
  {
   "cell_type": "code",
   "execution_count": 2,
   "metadata": {},
   "outputs": [],
   "source": [
    "headers = ['title', 'predict_cat1', 'predict_cat1', 'predict_cat1']\n",
    "train = pd.read_csv('GiveMeSomeCredit\\cs-training.csv')\n",
    "test = pd.read_csv('GiveMeSomeCredit\\cs-test.csv')\n",
    "data = pd.concat([train, test], ignore_index=1)"
   ]
  },
  {
   "cell_type": "markdown",
   "metadata": {},
   "source": [
    "#### Wstępne przyjrzenie się danym:"
   ]
  },
  {
   "cell_type": "code",
   "execution_count": 3,
   "metadata": {
    "scrolled": true
   },
   "outputs": [
    {
     "data": {
      "text/html": [
       "<div>\n",
       "<style scoped>\n",
       "    .dataframe tbody tr th:only-of-type {\n",
       "        vertical-align: middle;\n",
       "    }\n",
       "\n",
       "    .dataframe tbody tr th {\n",
       "        vertical-align: top;\n",
       "    }\n",
       "\n",
       "    .dataframe thead th {\n",
       "        text-align: right;\n",
       "    }\n",
       "</style>\n",
       "<table border=\"1\" class=\"dataframe\">\n",
       "  <thead>\n",
       "    <tr style=\"text-align: right;\">\n",
       "      <th></th>\n",
       "      <th>Unnamed: 0</th>\n",
       "      <th>SeriousDlqin2yrs</th>\n",
       "      <th>RevolvingUtilizationOfUnsecuredLines</th>\n",
       "      <th>age</th>\n",
       "      <th>NumberOfTime30-59DaysPastDueNotWorse</th>\n",
       "      <th>DebtRatio</th>\n",
       "      <th>MonthlyIncome</th>\n",
       "      <th>NumberOfOpenCreditLinesAndLoans</th>\n",
       "      <th>NumberOfTimes90DaysLate</th>\n",
       "      <th>NumberRealEstateLoansOrLines</th>\n",
       "      <th>NumberOfTime60-89DaysPastDueNotWorse</th>\n",
       "      <th>NumberOfDependents</th>\n",
       "    </tr>\n",
       "  </thead>\n",
       "  <tbody>\n",
       "    <tr>\n",
       "      <th>0</th>\n",
       "      <td>1</td>\n",
       "      <td>1.0</td>\n",
       "      <td>0.766127</td>\n",
       "      <td>45</td>\n",
       "      <td>2</td>\n",
       "      <td>0.802982</td>\n",
       "      <td>9120.0</td>\n",
       "      <td>13</td>\n",
       "      <td>0</td>\n",
       "      <td>6</td>\n",
       "      <td>0</td>\n",
       "      <td>2.0</td>\n",
       "    </tr>\n",
       "    <tr>\n",
       "      <th>1</th>\n",
       "      <td>2</td>\n",
       "      <td>0.0</td>\n",
       "      <td>0.957151</td>\n",
       "      <td>40</td>\n",
       "      <td>0</td>\n",
       "      <td>0.121876</td>\n",
       "      <td>2600.0</td>\n",
       "      <td>4</td>\n",
       "      <td>0</td>\n",
       "      <td>0</td>\n",
       "      <td>0</td>\n",
       "      <td>1.0</td>\n",
       "    </tr>\n",
       "    <tr>\n",
       "      <th>2</th>\n",
       "      <td>3</td>\n",
       "      <td>0.0</td>\n",
       "      <td>0.658180</td>\n",
       "      <td>38</td>\n",
       "      <td>1</td>\n",
       "      <td>0.085113</td>\n",
       "      <td>3042.0</td>\n",
       "      <td>2</td>\n",
       "      <td>1</td>\n",
       "      <td>0</td>\n",
       "      <td>0</td>\n",
       "      <td>0.0</td>\n",
       "    </tr>\n",
       "    <tr>\n",
       "      <th>3</th>\n",
       "      <td>4</td>\n",
       "      <td>0.0</td>\n",
       "      <td>0.233810</td>\n",
       "      <td>30</td>\n",
       "      <td>0</td>\n",
       "      <td>0.036050</td>\n",
       "      <td>3300.0</td>\n",
       "      <td>5</td>\n",
       "      <td>0</td>\n",
       "      <td>0</td>\n",
       "      <td>0</td>\n",
       "      <td>0.0</td>\n",
       "    </tr>\n",
       "    <tr>\n",
       "      <th>4</th>\n",
       "      <td>5</td>\n",
       "      <td>0.0</td>\n",
       "      <td>0.907239</td>\n",
       "      <td>49</td>\n",
       "      <td>1</td>\n",
       "      <td>0.024926</td>\n",
       "      <td>63588.0</td>\n",
       "      <td>7</td>\n",
       "      <td>0</td>\n",
       "      <td>1</td>\n",
       "      <td>0</td>\n",
       "      <td>0.0</td>\n",
       "    </tr>\n",
       "    <tr>\n",
       "      <th>5</th>\n",
       "      <td>6</td>\n",
       "      <td>0.0</td>\n",
       "      <td>0.213179</td>\n",
       "      <td>74</td>\n",
       "      <td>0</td>\n",
       "      <td>0.375607</td>\n",
       "      <td>3500.0</td>\n",
       "      <td>3</td>\n",
       "      <td>0</td>\n",
       "      <td>1</td>\n",
       "      <td>0</td>\n",
       "      <td>1.0</td>\n",
       "    </tr>\n",
       "    <tr>\n",
       "      <th>6</th>\n",
       "      <td>7</td>\n",
       "      <td>0.0</td>\n",
       "      <td>0.305682</td>\n",
       "      <td>57</td>\n",
       "      <td>0</td>\n",
       "      <td>5710.000000</td>\n",
       "      <td>NaN</td>\n",
       "      <td>8</td>\n",
       "      <td>0</td>\n",
       "      <td>3</td>\n",
       "      <td>0</td>\n",
       "      <td>0.0</td>\n",
       "    </tr>\n",
       "    <tr>\n",
       "      <th>7</th>\n",
       "      <td>8</td>\n",
       "      <td>0.0</td>\n",
       "      <td>0.754464</td>\n",
       "      <td>39</td>\n",
       "      <td>0</td>\n",
       "      <td>0.209940</td>\n",
       "      <td>3500.0</td>\n",
       "      <td>8</td>\n",
       "      <td>0</td>\n",
       "      <td>0</td>\n",
       "      <td>0</td>\n",
       "      <td>0.0</td>\n",
       "    </tr>\n",
       "    <tr>\n",
       "      <th>8</th>\n",
       "      <td>9</td>\n",
       "      <td>0.0</td>\n",
       "      <td>0.116951</td>\n",
       "      <td>27</td>\n",
       "      <td>0</td>\n",
       "      <td>46.000000</td>\n",
       "      <td>NaN</td>\n",
       "      <td>2</td>\n",
       "      <td>0</td>\n",
       "      <td>0</td>\n",
       "      <td>0</td>\n",
       "      <td>NaN</td>\n",
       "    </tr>\n",
       "    <tr>\n",
       "      <th>9</th>\n",
       "      <td>10</td>\n",
       "      <td>0.0</td>\n",
       "      <td>0.189169</td>\n",
       "      <td>57</td>\n",
       "      <td>0</td>\n",
       "      <td>0.606291</td>\n",
       "      <td>23684.0</td>\n",
       "      <td>9</td>\n",
       "      <td>0</td>\n",
       "      <td>4</td>\n",
       "      <td>0</td>\n",
       "      <td>2.0</td>\n",
       "    </tr>\n",
       "    <tr>\n",
       "      <th>10</th>\n",
       "      <td>11</td>\n",
       "      <td>0.0</td>\n",
       "      <td>0.644226</td>\n",
       "      <td>30</td>\n",
       "      <td>0</td>\n",
       "      <td>0.309476</td>\n",
       "      <td>2500.0</td>\n",
       "      <td>5</td>\n",
       "      <td>0</td>\n",
       "      <td>0</td>\n",
       "      <td>0</td>\n",
       "      <td>0.0</td>\n",
       "    </tr>\n",
       "    <tr>\n",
       "      <th>11</th>\n",
       "      <td>12</td>\n",
       "      <td>0.0</td>\n",
       "      <td>0.018798</td>\n",
       "      <td>51</td>\n",
       "      <td>0</td>\n",
       "      <td>0.531529</td>\n",
       "      <td>6501.0</td>\n",
       "      <td>7</td>\n",
       "      <td>0</td>\n",
       "      <td>2</td>\n",
       "      <td>0</td>\n",
       "      <td>2.0</td>\n",
       "    </tr>\n",
       "    <tr>\n",
       "      <th>12</th>\n",
       "      <td>13</td>\n",
       "      <td>0.0</td>\n",
       "      <td>0.010352</td>\n",
       "      <td>46</td>\n",
       "      <td>0</td>\n",
       "      <td>0.298354</td>\n",
       "      <td>12454.0</td>\n",
       "      <td>13</td>\n",
       "      <td>0</td>\n",
       "      <td>2</td>\n",
       "      <td>0</td>\n",
       "      <td>2.0</td>\n",
       "    </tr>\n",
       "    <tr>\n",
       "      <th>13</th>\n",
       "      <td>14</td>\n",
       "      <td>1.0</td>\n",
       "      <td>0.964673</td>\n",
       "      <td>40</td>\n",
       "      <td>3</td>\n",
       "      <td>0.382965</td>\n",
       "      <td>13700.0</td>\n",
       "      <td>9</td>\n",
       "      <td>3</td>\n",
       "      <td>1</td>\n",
       "      <td>1</td>\n",
       "      <td>2.0</td>\n",
       "    </tr>\n",
       "    <tr>\n",
       "      <th>14</th>\n",
       "      <td>15</td>\n",
       "      <td>0.0</td>\n",
       "      <td>0.019657</td>\n",
       "      <td>76</td>\n",
       "      <td>0</td>\n",
       "      <td>477.000000</td>\n",
       "      <td>0.0</td>\n",
       "      <td>6</td>\n",
       "      <td>0</td>\n",
       "      <td>1</td>\n",
       "      <td>0</td>\n",
       "      <td>0.0</td>\n",
       "    </tr>\n",
       "    <tr>\n",
       "      <th>15</th>\n",
       "      <td>16</td>\n",
       "      <td>0.0</td>\n",
       "      <td>0.548458</td>\n",
       "      <td>64</td>\n",
       "      <td>0</td>\n",
       "      <td>0.209892</td>\n",
       "      <td>11362.0</td>\n",
       "      <td>7</td>\n",
       "      <td>0</td>\n",
       "      <td>1</td>\n",
       "      <td>0</td>\n",
       "      <td>2.0</td>\n",
       "    </tr>\n",
       "    <tr>\n",
       "      <th>16</th>\n",
       "      <td>17</td>\n",
       "      <td>0.0</td>\n",
       "      <td>0.061086</td>\n",
       "      <td>78</td>\n",
       "      <td>0</td>\n",
       "      <td>2058.000000</td>\n",
       "      <td>NaN</td>\n",
       "      <td>10</td>\n",
       "      <td>0</td>\n",
       "      <td>2</td>\n",
       "      <td>0</td>\n",
       "      <td>0.0</td>\n",
       "    </tr>\n",
       "    <tr>\n",
       "      <th>17</th>\n",
       "      <td>18</td>\n",
       "      <td>0.0</td>\n",
       "      <td>0.166284</td>\n",
       "      <td>53</td>\n",
       "      <td>0</td>\n",
       "      <td>0.188274</td>\n",
       "      <td>8800.0</td>\n",
       "      <td>7</td>\n",
       "      <td>0</td>\n",
       "      <td>0</td>\n",
       "      <td>0</td>\n",
       "      <td>0.0</td>\n",
       "    </tr>\n",
       "    <tr>\n",
       "      <th>18</th>\n",
       "      <td>19</td>\n",
       "      <td>0.0</td>\n",
       "      <td>0.221813</td>\n",
       "      <td>43</td>\n",
       "      <td>0</td>\n",
       "      <td>0.527888</td>\n",
       "      <td>3280.0</td>\n",
       "      <td>7</td>\n",
       "      <td>0</td>\n",
       "      <td>1</td>\n",
       "      <td>0</td>\n",
       "      <td>2.0</td>\n",
       "    </tr>\n",
       "    <tr>\n",
       "      <th>19</th>\n",
       "      <td>20</td>\n",
       "      <td>0.0</td>\n",
       "      <td>0.602794</td>\n",
       "      <td>25</td>\n",
       "      <td>0</td>\n",
       "      <td>0.065868</td>\n",
       "      <td>333.0</td>\n",
       "      <td>2</td>\n",
       "      <td>0</td>\n",
       "      <td>0</td>\n",
       "      <td>0</td>\n",
       "      <td>0.0</td>\n",
       "    </tr>\n",
       "  </tbody>\n",
       "</table>\n",
       "</div>"
      ],
      "text/plain": [
       "    Unnamed: 0  SeriousDlqin2yrs  RevolvingUtilizationOfUnsecuredLines  age  \\\n",
       "0            1               1.0                              0.766127   45   \n",
       "1            2               0.0                              0.957151   40   \n",
       "2            3               0.0                              0.658180   38   \n",
       "3            4               0.0                              0.233810   30   \n",
       "4            5               0.0                              0.907239   49   \n",
       "5            6               0.0                              0.213179   74   \n",
       "6            7               0.0                              0.305682   57   \n",
       "7            8               0.0                              0.754464   39   \n",
       "8            9               0.0                              0.116951   27   \n",
       "9           10               0.0                              0.189169   57   \n",
       "10          11               0.0                              0.644226   30   \n",
       "11          12               0.0                              0.018798   51   \n",
       "12          13               0.0                              0.010352   46   \n",
       "13          14               1.0                              0.964673   40   \n",
       "14          15               0.0                              0.019657   76   \n",
       "15          16               0.0                              0.548458   64   \n",
       "16          17               0.0                              0.061086   78   \n",
       "17          18               0.0                              0.166284   53   \n",
       "18          19               0.0                              0.221813   43   \n",
       "19          20               0.0                              0.602794   25   \n",
       "\n",
       "    NumberOfTime30-59DaysPastDueNotWorse    DebtRatio  MonthlyIncome  \\\n",
       "0                                      2     0.802982         9120.0   \n",
       "1                                      0     0.121876         2600.0   \n",
       "2                                      1     0.085113         3042.0   \n",
       "3                                      0     0.036050         3300.0   \n",
       "4                                      1     0.024926        63588.0   \n",
       "5                                      0     0.375607         3500.0   \n",
       "6                                      0  5710.000000            NaN   \n",
       "7                                      0     0.209940         3500.0   \n",
       "8                                      0    46.000000            NaN   \n",
       "9                                      0     0.606291        23684.0   \n",
       "10                                     0     0.309476         2500.0   \n",
       "11                                     0     0.531529         6501.0   \n",
       "12                                     0     0.298354        12454.0   \n",
       "13                                     3     0.382965        13700.0   \n",
       "14                                     0   477.000000            0.0   \n",
       "15                                     0     0.209892        11362.0   \n",
       "16                                     0  2058.000000            NaN   \n",
       "17                                     0     0.188274         8800.0   \n",
       "18                                     0     0.527888         3280.0   \n",
       "19                                     0     0.065868          333.0   \n",
       "\n",
       "    NumberOfOpenCreditLinesAndLoans  NumberOfTimes90DaysLate  \\\n",
       "0                                13                        0   \n",
       "1                                 4                        0   \n",
       "2                                 2                        1   \n",
       "3                                 5                        0   \n",
       "4                                 7                        0   \n",
       "5                                 3                        0   \n",
       "6                                 8                        0   \n",
       "7                                 8                        0   \n",
       "8                                 2                        0   \n",
       "9                                 9                        0   \n",
       "10                                5                        0   \n",
       "11                                7                        0   \n",
       "12                               13                        0   \n",
       "13                                9                        3   \n",
       "14                                6                        0   \n",
       "15                                7                        0   \n",
       "16                               10                        0   \n",
       "17                                7                        0   \n",
       "18                                7                        0   \n",
       "19                                2                        0   \n",
       "\n",
       "    NumberRealEstateLoansOrLines  NumberOfTime60-89DaysPastDueNotWorse  \\\n",
       "0                              6                                     0   \n",
       "1                              0                                     0   \n",
       "2                              0                                     0   \n",
       "3                              0                                     0   \n",
       "4                              1                                     0   \n",
       "5                              1                                     0   \n",
       "6                              3                                     0   \n",
       "7                              0                                     0   \n",
       "8                              0                                     0   \n",
       "9                              4                                     0   \n",
       "10                             0                                     0   \n",
       "11                             2                                     0   \n",
       "12                             2                                     0   \n",
       "13                             1                                     1   \n",
       "14                             1                                     0   \n",
       "15                             1                                     0   \n",
       "16                             2                                     0   \n",
       "17                             0                                     0   \n",
       "18                             1                                     0   \n",
       "19                             0                                     0   \n",
       "\n",
       "    NumberOfDependents  \n",
       "0                  2.0  \n",
       "1                  1.0  \n",
       "2                  0.0  \n",
       "3                  0.0  \n",
       "4                  0.0  \n",
       "5                  1.0  \n",
       "6                  0.0  \n",
       "7                  0.0  \n",
       "8                  NaN  \n",
       "9                  2.0  \n",
       "10                 0.0  \n",
       "11                 2.0  \n",
       "12                 2.0  \n",
       "13                 2.0  \n",
       "14                 0.0  \n",
       "15                 2.0  \n",
       "16                 0.0  \n",
       "17                 0.0  \n",
       "18                 2.0  \n",
       "19                 0.0  "
      ]
     },
     "execution_count": 3,
     "metadata": {},
     "output_type": "execute_result"
    }
   ],
   "source": [
    "data[0:20]"
   ]
  },
  {
   "cell_type": "code",
   "execution_count": 4,
   "metadata": {},
   "outputs": [
    {
     "data": {
      "text/plain": [
       "(251503, 12)"
      ]
     },
     "execution_count": 4,
     "metadata": {},
     "output_type": "execute_result"
    }
   ],
   "source": [
    "data.shape # (Rekordy, kolumny)"
   ]
  },
  {
   "cell_type": "code",
   "execution_count": 5,
   "metadata": {},
   "outputs": [],
   "source": [
    "data = data.drop('Unnamed: 0', axis=1) "
   ]
  },
  {
   "cell_type": "code",
   "execution_count": 6,
   "metadata": {},
   "outputs": [
    {
     "data": {
      "text/html": [
       "<div>\n",
       "<style scoped>\n",
       "    .dataframe tbody tr th:only-of-type {\n",
       "        vertical-align: middle;\n",
       "    }\n",
       "\n",
       "    .dataframe tbody tr th {\n",
       "        vertical-align: top;\n",
       "    }\n",
       "\n",
       "    .dataframe thead th {\n",
       "        text-align: right;\n",
       "    }\n",
       "</style>\n",
       "<table border=\"1\" class=\"dataframe\">\n",
       "  <thead>\n",
       "    <tr style=\"text-align: right;\">\n",
       "      <th></th>\n",
       "      <th>count</th>\n",
       "      <th>mean</th>\n",
       "      <th>std</th>\n",
       "      <th>min</th>\n",
       "      <th>25%</th>\n",
       "      <th>50%</th>\n",
       "      <th>75%</th>\n",
       "      <th>max</th>\n",
       "    </tr>\n",
       "  </thead>\n",
       "  <tbody>\n",
       "    <tr>\n",
       "      <th>SeriousDlqin2yrs</th>\n",
       "      <td>150000.0</td>\n",
       "      <td>0.066840</td>\n",
       "      <td>0.249746</td>\n",
       "      <td>0.0</td>\n",
       "      <td>0.000000</td>\n",
       "      <td>0.000000</td>\n",
       "      <td>0.000000</td>\n",
       "      <td>1.0</td>\n",
       "    </tr>\n",
       "    <tr>\n",
       "      <th>RevolvingUtilizationOfUnsecuredLines</th>\n",
       "      <td>251503.0</td>\n",
       "      <td>5.750415</td>\n",
       "      <td>229.633980</td>\n",
       "      <td>0.0</td>\n",
       "      <td>0.029977</td>\n",
       "      <td>0.153575</td>\n",
       "      <td>0.561293</td>\n",
       "      <td>50708.0</td>\n",
       "    </tr>\n",
       "    <tr>\n",
       "      <th>age</th>\n",
       "      <td>251503.0</td>\n",
       "      <td>52.339694</td>\n",
       "      <td>14.775120</td>\n",
       "      <td>0.0</td>\n",
       "      <td>41.000000</td>\n",
       "      <td>52.000000</td>\n",
       "      <td>63.000000</td>\n",
       "      <td>109.0</td>\n",
       "    </tr>\n",
       "    <tr>\n",
       "      <th>NumberOfTime30-59DaysPastDueNotWorse</th>\n",
       "      <td>251503.0</td>\n",
       "      <td>0.434245</td>\n",
       "      <td>4.335643</td>\n",
       "      <td>0.0</td>\n",
       "      <td>0.000000</td>\n",
       "      <td>0.000000</td>\n",
       "      <td>0.000000</td>\n",
       "      <td>98.0</td>\n",
       "    </tr>\n",
       "    <tr>\n",
       "      <th>DebtRatio</th>\n",
       "      <td>251503.0</td>\n",
       "      <td>349.562468</td>\n",
       "      <td>1884.792016</td>\n",
       "      <td>0.0</td>\n",
       "      <td>0.174330</td>\n",
       "      <td>0.365612</td>\n",
       "      <td>0.861754</td>\n",
       "      <td>329664.0</td>\n",
       "    </tr>\n",
       "    <tr>\n",
       "      <th>MonthlyIncome</th>\n",
       "      <td>201669.0</td>\n",
       "      <td>6744.818167</td>\n",
       "      <td>25717.610237</td>\n",
       "      <td>0.0</td>\n",
       "      <td>3400.000000</td>\n",
       "      <td>5400.000000</td>\n",
       "      <td>8212.000000</td>\n",
       "      <td>7727000.0</td>\n",
       "    </tr>\n",
       "    <tr>\n",
       "      <th>NumberOfOpenCreditLinesAndLoans</th>\n",
       "      <td>251503.0</td>\n",
       "      <td>8.453064</td>\n",
       "      <td>5.145194</td>\n",
       "      <td>0.0</td>\n",
       "      <td>5.000000</td>\n",
       "      <td>8.000000</td>\n",
       "      <td>11.000000</td>\n",
       "      <td>85.0</td>\n",
       "    </tr>\n",
       "    <tr>\n",
       "      <th>NumberOfTimes90DaysLate</th>\n",
       "      <td>251503.0</td>\n",
       "      <td>0.278370</td>\n",
       "      <td>4.312539</td>\n",
       "      <td>0.0</td>\n",
       "      <td>0.000000</td>\n",
       "      <td>0.000000</td>\n",
       "      <td>0.000000</td>\n",
       "      <td>98.0</td>\n",
       "    </tr>\n",
       "    <tr>\n",
       "      <th>NumberRealEstateLoansOrLines</th>\n",
       "      <td>251503.0</td>\n",
       "      <td>1.016155</td>\n",
       "      <td>1.121935</td>\n",
       "      <td>0.0</td>\n",
       "      <td>0.000000</td>\n",
       "      <td>1.000000</td>\n",
       "      <td>2.000000</td>\n",
       "      <td>54.0</td>\n",
       "    </tr>\n",
       "    <tr>\n",
       "      <th>NumberOfTime60-89DaysPastDueNotWorse</th>\n",
       "      <td>251503.0</td>\n",
       "      <td>0.252466</td>\n",
       "      <td>4.299204</td>\n",
       "      <td>0.0</td>\n",
       "      <td>0.000000</td>\n",
       "      <td>0.000000</td>\n",
       "      <td>0.000000</td>\n",
       "      <td>98.0</td>\n",
       "    </tr>\n",
       "    <tr>\n",
       "      <th>NumberOfDependents</th>\n",
       "      <td>244953.0</td>\n",
       "      <td>0.761995</td>\n",
       "      <td>1.123905</td>\n",
       "      <td>0.0</td>\n",
       "      <td>0.000000</td>\n",
       "      <td>0.000000</td>\n",
       "      <td>1.000000</td>\n",
       "      <td>43.0</td>\n",
       "    </tr>\n",
       "  </tbody>\n",
       "</table>\n",
       "</div>"
      ],
      "text/plain": [
       "                                         count         mean           std  \\\n",
       "SeriousDlqin2yrs                      150000.0     0.066840      0.249746   \n",
       "RevolvingUtilizationOfUnsecuredLines  251503.0     5.750415    229.633980   \n",
       "age                                   251503.0    52.339694     14.775120   \n",
       "NumberOfTime30-59DaysPastDueNotWorse  251503.0     0.434245      4.335643   \n",
       "DebtRatio                             251503.0   349.562468   1884.792016   \n",
       "MonthlyIncome                         201669.0  6744.818167  25717.610237   \n",
       "NumberOfOpenCreditLinesAndLoans       251503.0     8.453064      5.145194   \n",
       "NumberOfTimes90DaysLate               251503.0     0.278370      4.312539   \n",
       "NumberRealEstateLoansOrLines          251503.0     1.016155      1.121935   \n",
       "NumberOfTime60-89DaysPastDueNotWorse  251503.0     0.252466      4.299204   \n",
       "NumberOfDependents                    244953.0     0.761995      1.123905   \n",
       "\n",
       "                                      min          25%          50%  \\\n",
       "SeriousDlqin2yrs                      0.0     0.000000     0.000000   \n",
       "RevolvingUtilizationOfUnsecuredLines  0.0     0.029977     0.153575   \n",
       "age                                   0.0    41.000000    52.000000   \n",
       "NumberOfTime30-59DaysPastDueNotWorse  0.0     0.000000     0.000000   \n",
       "DebtRatio                             0.0     0.174330     0.365612   \n",
       "MonthlyIncome                         0.0  3400.000000  5400.000000   \n",
       "NumberOfOpenCreditLinesAndLoans       0.0     5.000000     8.000000   \n",
       "NumberOfTimes90DaysLate               0.0     0.000000     0.000000   \n",
       "NumberRealEstateLoansOrLines          0.0     0.000000     1.000000   \n",
       "NumberOfTime60-89DaysPastDueNotWorse  0.0     0.000000     0.000000   \n",
       "NumberOfDependents                    0.0     0.000000     0.000000   \n",
       "\n",
       "                                              75%        max  \n",
       "SeriousDlqin2yrs                         0.000000        1.0  \n",
       "RevolvingUtilizationOfUnsecuredLines     0.561293    50708.0  \n",
       "age                                     63.000000      109.0  \n",
       "NumberOfTime30-59DaysPastDueNotWorse     0.000000       98.0  \n",
       "DebtRatio                                0.861754   329664.0  \n",
       "MonthlyIncome                         8212.000000  7727000.0  \n",
       "NumberOfOpenCreditLinesAndLoans         11.000000       85.0  \n",
       "NumberOfTimes90DaysLate                  0.000000       98.0  \n",
       "NumberRealEstateLoansOrLines             2.000000       54.0  \n",
       "NumberOfTime60-89DaysPastDueNotWorse     0.000000       98.0  \n",
       "NumberOfDependents                       1.000000       43.0  "
      ]
     },
     "execution_count": 6,
     "metadata": {},
     "output_type": "execute_result"
    }
   ],
   "source": [
    "data.describe().T # Opis statystyczny danych"
   ]
  },
  {
   "cell_type": "code",
   "execution_count": 7,
   "metadata": {},
   "outputs": [
    {
     "name": "stdout",
     "output_type": "stream",
     "text": [
      "<class 'pandas.core.frame.DataFrame'>\n",
      "RangeIndex: 251503 entries, 0 to 251502\n",
      "Data columns (total 11 columns):\n",
      "SeriousDlqin2yrs                        150000 non-null float64\n",
      "RevolvingUtilizationOfUnsecuredLines    251503 non-null float64\n",
      "age                                     251503 non-null int64\n",
      "NumberOfTime30-59DaysPastDueNotWorse    251503 non-null int64\n",
      "DebtRatio                               251503 non-null float64\n",
      "MonthlyIncome                           201669 non-null float64\n",
      "NumberOfOpenCreditLinesAndLoans         251503 non-null int64\n",
      "NumberOfTimes90DaysLate                 251503 non-null int64\n",
      "NumberRealEstateLoansOrLines            251503 non-null int64\n",
      "NumberOfTime60-89DaysPastDueNotWorse    251503 non-null int64\n",
      "NumberOfDependents                      244953 non-null float64\n",
      "dtypes: float64(5), int64(6)\n",
      "memory usage: 21.1 MB\n"
     ]
    }
   ],
   "source": [
    "data.info()"
   ]
  },
  {
   "cell_type": "markdown",
   "metadata": {},
   "source": [
    "Opis danych (PL):\n",
    "- **SeriousDlqin2yrs** - popadnięcie w zadłużenie w ciągu dwóch lat\n",
    "- **RevolvingUtilizationOfUnsecuredLines** - Obrotowe wykorzystanie niezabezpieczonych linii kredytowych/pożyczkowych\n",
    "- **age** - wiek\n",
    "- **NumberOfTime30-59DaysPastDueNotWorse** - Dni po zapłaty terminie nie były większe niż 30-59 dni\n",
    "- **DebtRatio** - wpółczynnik zadłużenia\n",
    "- **MonthlyIncome** - miesięczny przychód\n",
    "- **NumberOfOpenCreditLinesAndLoans** - ilość otwartych linii kredytowych i pożyczek\n",
    "- **NumberOfTimes90DaysLate** - Ilość opóźnień ze spłatą powyżej 90 dni\n",
    "- **NumberRealEstateLoansOrLines** - Liczba pożyczek lub kredytów na nieruchomości\n",
    "- **NumberOfTime60-89DaysPastDueNotWorse** - Dni po zapłaty terminie nie były większe niż 60-89 dni\n",
    "- **NumberOfDependents** - ilość osób na utrzymaniu"
   ]
  },
  {
   "cell_type": "code",
   "execution_count": 8,
   "metadata": {},
   "outputs": [
    {
     "data": {
      "text/plain": [
       "<matplotlib.axes._subplots.AxesSubplot at 0x1f1a53329e8>"
      ]
     },
     "execution_count": 8,
     "metadata": {},
     "output_type": "execute_result"
    },
    {
     "data": {
      "image/png": "[encoded data removed]",
      "text/plain": [
       "<Figure size 792x648 with 2 Axes>"
      ]
     },
     "metadata": {
      "needs_background": "light"
     },
     "output_type": "display_data"
    }
   ],
   "source": [
    "# do oglądania korelacji najlepiej użyć wizualizacji w postaci heatmapy:\n",
    "corr = data.corr()\n",
    "\n",
    "# Wygenerowanie maski dla górnego trójkąta\n",
    "mask = np.zeros_like(corr, dtype=np.bool)\n",
    "mask[np.triu_indices_from(mask)] = True\n",
    "\n",
    "# Ustawienie figury wykresu (rozmiarów)\n",
    "f, ax = plt.subplots(figsize=(11, 9))\n",
    "\n",
    "# Wygenerowanie niestandardowej rozbieżnej mapy kolorów\n",
    "cmap = sns.diverging_palette(220, 10, as_cmap=True)\n",
    "\n",
    "sns.heatmap(corr, mask=mask, cmap=cmap, vmax=.3, center=0, annot=True,\n",
    "            square=True, linewidths=.5, cbar_kws={\"shrink\": .5})"
   ]
  },
  {
   "cell_type": "markdown",
   "metadata": {},
   "source": [
    "Jak widzimy największą korelację względem metryki, którą chcemy przewidzieć (czyli **SeriousDlqin2yrs**), mają odpowiednio:<br>\n",
    "- NumberOfTime30-59DaysPastDueNotWorse: 0.13\n",
    "- NumberOfTimes90DaysLate: 0.12\n",
    "- NumberOfTime60-89DaysPastDueNotWorse: 0.1      \n",
    "- NumberOfDependents: 0.046 <br>\n",
    "\n",
    "Dodatkowo wiek ma dość wysoką ujemną korelację:\n",
    "- age: -0.12\n",
    "\n",
    "Przyjrzyjmy się lepiej tym cechom"
   ]
  },
  {
   "cell_type": "markdown",
   "metadata": {},
   "source": [
    "### Zmienne powiązane z ilością dni"
   ]
  },
  {
   "cell_type": "code",
   "execution_count": 9,
   "metadata": {},
   "outputs": [
    {
     "name": "stderr",
     "output_type": "stream",
     "text": [
      "C:\\Users\\Wojtek\\Anaconda3\\envs\\alleml\\lib\\site-packages\\scipy\\stats\\stats.py:1713: FutureWarning: Using a non-tuple sequence for multidimensional indexing is deprecated; use `arr[tuple(seq)]` instead of `arr[seq]`. In the future this will be interpreted as an array index, `arr[np.array(seq)]`, which will result either in an error or a different result.\n",
      "  return np.add.reduce(sorted[indexer] * weights, axis=axis) / sumval\n"
     ]
    },
    {
     "data": {
      "text/plain": [
       "<matplotlib.axes._subplots.AxesSubplot at 0x1f1a54e52e8>"
      ]
     },
     "execution_count": 9,
     "metadata": {},
     "output_type": "execute_result"
    },
    {
     "data": {
      "image/png": "[encoded data removed]",
      "text/plain": [
       "<Figure size 432x288 with 1 Axes>"
      ]
     },
     "metadata": {
      "needs_background": "light"
     },
     "output_type": "display_data"
    }
   ],
   "source": [
    "sns.regplot(x='NumberOfTime30-59DaysPastDueNotWorse', y= 'SeriousDlqin2yrs', data=data)"
   ]
  },
  {
   "cell_type": "markdown",
   "metadata": {},
   "source": [
    "Widzimy, ciekawą zależność, że liczba dni opóźnienia ze spłatą w granicach 30-59 dni faktycznie ma duży dodatni wpływ na to czy dana osoba zadłóży się w ciągu dwóch lat. Przyjżyjmy się lepiej rozkładowi tej zmiennej."
   ]
  },
  {
   "cell_type": "code",
   "execution_count": 10,
   "metadata": {},
   "outputs": [
    {
     "data": {
      "text/plain": [
       "0     211208\n",
       "1      26870\n",
       "2       7766\n",
       "3       2955\n",
       "4       1257\n",
       "5        547\n",
       "6        228\n",
       "7         96\n",
       "8         53\n",
       "9         22\n",
       "10        11\n",
       "11         2\n",
       "12         3\n",
       "13         1\n",
       "19         1\n",
       "96         6\n",
       "98       477\n",
       "Name: NumberOfTime30-59DaysPastDueNotWorse, dtype: int64"
      ]
     },
     "execution_count": 10,
     "metadata": {},
     "output_type": "execute_result"
    }
   ],
   "source": [
    "data['NumberOfTime30-59DaysPastDueNotWorse'].value_counts(sort=False)"
   ]
  },
  {
   "cell_type": "code",
   "execution_count": 11,
   "metadata": {},
   "outputs": [
    {
     "data": {
      "text/plain": [
       "<matplotlib.axes._subplots.AxesSubplot at 0x1f1a540c1d0>"
      ]
     },
     "execution_count": 11,
     "metadata": {},
     "output_type": "execute_result"
    },
    {
     "data": {
      "image/png": "[encoded data removed]",
      "text/plain": [
       "<Figure size 432x288 with 1 Axes>"
      ]
     },
     "metadata": {
      "needs_background": "light"
     },
     "output_type": "display_data"
    }
   ],
   "source": [
    "sns.countplot(data['NumberOfTime30-59DaysPastDueNotWorse']) "
   ]
  },
  {
   "cell_type": "markdown",
   "metadata": {},
   "source": [
    "Hipoteza: Podobną zależność zauważymy dla reszty cech z dodatnią korelacją, w których występuje liczba dni.<br>\n",
    "A teraz ją sprawdźmy:"
   ]
  },
  {
   "cell_type": "code",
   "execution_count": 12,
   "metadata": {},
   "outputs": [
    {
     "data": {
      "text/plain": [
       "0     237447\n",
       "1       8837\n",
       "2       2617\n",
       "3       1112\n",
       "4        482\n",
       "5        233\n",
       "6        124\n",
       "7         64\n",
       "8         40\n",
       "9         33\n",
       "10        10\n",
       "11         6\n",
       "12         3\n",
       "13         4\n",
       "14         2\n",
       "15         2\n",
       "16         1\n",
       "17         2\n",
       "18         1\n",
       "96         6\n",
       "98       477\n",
       "Name: NumberOfTimes90DaysLate, dtype: int64"
      ]
     },
     "execution_count": 12,
     "metadata": {},
     "output_type": "execute_result"
    }
   ],
   "source": [
    "data['NumberOfTimes90DaysLate'].value_counts(sort=False)"
   ]
  },
  {
   "cell_type": "code",
   "execution_count": 13,
   "metadata": {},
   "outputs": [
    {
     "data": {
      "text/plain": [
       "0     238771\n",
       "1       9594\n",
       "2       1849\n",
       "3        534\n",
       "4        166\n",
       "5         59\n",
       "6         23\n",
       "7         16\n",
       "8          3\n",
       "9          4\n",
       "11         1\n",
       "96         6\n",
       "98       477\n",
       "Name: NumberOfTime60-89DaysPastDueNotWorse, dtype: int64"
      ]
     },
     "execution_count": 13,
     "metadata": {},
     "output_type": "execute_result"
    }
   ],
   "source": [
    "data['NumberOfTime60-89DaysPastDueNotWorse'].value_counts(sort=False)"
   ]
  },
  {
   "cell_type": "markdown",
   "metadata": {},
   "source": [
    "Jak widzimy, rozkład danych jest identyczny dla prawie każdej z tych zmiennych. A więc zapewne ich korelacja też będzie wysoka. Sprawdźmy to!"
   ]
  },
  {
   "cell_type": "code",
   "execution_count": 14,
   "metadata": {},
   "outputs": [
    {
     "data": {
      "text/plain": [
       "<matplotlib.axes._subplots.AxesSubplot at 0x1f1a5618a20>"
      ]
     },
     "execution_count": 14,
     "metadata": {},
     "output_type": "execute_result"
    },
    {
     "data": {
      "image/png": "[encoded data removed]",
      "text/plain": [
       "<Figure size 360x288 with 2 Axes>"
      ]
     },
     "metadata": {
      "needs_background": "light"
     },
     "output_type": "display_data"
    }
   ],
   "source": [
    "corr_days_map = data[['NumberOfTime30-59DaysPastDueNotWorse', 'NumberOfTime60-89DaysPastDueNotWorse', 'NumberOfTimes90DaysLate']].corr()\n",
    "\n",
    "f, ax = plt.subplots(figsize=(5, 4))\n",
    "\n",
    "sns.heatmap(corr_days_map, cmap=cmap, vmax=.3, center=0, annot=True,\n",
    "            square=True, linewidths=.5, cbar_kws={\"shrink\": .5})"
   ]
  },
  {
   "cell_type": "markdown",
   "metadata": {},
   "source": [
    "Jak widać ich korelacja wynosi praktycznie 100%, a więc tylko jednej z tych zmiennych możemy użyć do stworzenia modelu. Stwórzmy sobie więc kolumnę w której zagregujemy te dane."
   ]
  },
  {
   "cell_type": "code",
   "execution_count": 15,
   "metadata": {},
   "outputs": [
    {
     "data": {
      "text/html": [
       "<div>\n",
       "<style scoped>\n",
       "    .dataframe tbody tr th:only-of-type {\n",
       "        vertical-align: middle;\n",
       "    }\n",
       "\n",
       "    .dataframe tbody tr th {\n",
       "        vertical-align: top;\n",
       "    }\n",
       "\n",
       "    .dataframe thead th {\n",
       "        text-align: right;\n",
       "    }\n",
       "</style>\n",
       "<table border=\"1\" class=\"dataframe\">\n",
       "  <thead>\n",
       "    <tr style=\"text-align: right;\">\n",
       "      <th></th>\n",
       "      <th>count</th>\n",
       "      <th>mean</th>\n",
       "      <th>std</th>\n",
       "      <th>min</th>\n",
       "      <th>25%</th>\n",
       "      <th>50%</th>\n",
       "      <th>75%</th>\n",
       "      <th>max</th>\n",
       "    </tr>\n",
       "    <tr>\n",
       "      <th>DaysLate_90+</th>\n",
       "      <th></th>\n",
       "      <th></th>\n",
       "      <th></th>\n",
       "      <th></th>\n",
       "      <th></th>\n",
       "      <th></th>\n",
       "      <th></th>\n",
       "      <th></th>\n",
       "    </tr>\n",
       "  </thead>\n",
       "  <tbody>\n",
       "    <tr>\n",
       "      <th>0</th>\n",
       "      <td>141662.0</td>\n",
       "      <td>0.046265</td>\n",
       "      <td>0.210059</td>\n",
       "      <td>0.0</td>\n",
       "      <td>0.0</td>\n",
       "      <td>0.0</td>\n",
       "      <td>0.0</td>\n",
       "      <td>1.0</td>\n",
       "    </tr>\n",
       "    <tr>\n",
       "      <th>1</th>\n",
       "      <td>8338.0</td>\n",
       "      <td>0.416407</td>\n",
       "      <td>0.492992</td>\n",
       "      <td>0.0</td>\n",
       "      <td>0.0</td>\n",
       "      <td>0.0</td>\n",
       "      <td>1.0</td>\n",
       "      <td>1.0</td>\n",
       "    </tr>\n",
       "  </tbody>\n",
       "</table>\n",
       "</div>"
      ],
      "text/plain": [
       "                 count      mean       std  min  25%  50%  75%  max\n",
       "DaysLate_90+                                                       \n",
       "0             141662.0  0.046265  0.210059  0.0  0.0  0.0  0.0  1.0\n",
       "1               8338.0  0.416407  0.492992  0.0  0.0  0.0  1.0  1.0"
      ]
     },
     "execution_count": 15,
     "metadata": {},
     "output_type": "execute_result"
    }
   ],
   "source": [
    "data['DaysLate_90+'] = (data['NumberOfTimes90DaysLate']>0).astype(int)\n",
    "data.groupby('DaysLate_90+')['SeriousDlqin2yrs'].describe()"
   ]
  },
  {
   "cell_type": "markdown",
   "metadata": {},
   "source": [
    "### Wiek - jako zmienna kategoryczna"
   ]
  },
  {
   "cell_type": "markdown",
   "metadata": {},
   "source": [
    "Ciekawsze wykresy możemy wygenerować dla wieku, który akurat ma ujemną korelację (czyli jeśli wiek rośnie to zmienna SeriousDlqin2yrs maleje). Możemy np. zwizualizować jego zależność względem zmiennej dla której stworzymy model."
   ]
  },
  {
   "cell_type": "code",
   "execution_count": 16,
   "metadata": {},
   "outputs": [
    {
     "data": {
      "text/html": [
       "<div>\n",
       "<style scoped>\n",
       "    .dataframe tbody tr th:only-of-type {\n",
       "        vertical-align: middle;\n",
       "    }\n",
       "\n",
       "    .dataframe tbody tr th {\n",
       "        vertical-align: top;\n",
       "    }\n",
       "\n",
       "    .dataframe thead th {\n",
       "        text-align: right;\n",
       "    }\n",
       "</style>\n",
       "<table border=\"1\" class=\"dataframe\">\n",
       "  <thead>\n",
       "    <tr style=\"text-align: right;\">\n",
       "      <th></th>\n",
       "      <th>SeriousDlqin2yrs</th>\n",
       "      <th>SeriousDlqin2yrs</th>\n",
       "    </tr>\n",
       "    <tr>\n",
       "      <th>age_grouped</th>\n",
       "      <th></th>\n",
       "      <th></th>\n",
       "    </tr>\n",
       "  </thead>\n",
       "  <tbody>\n",
       "    <tr>\n",
       "      <th>0-29</th>\n",
       "      <td>8821</td>\n",
       "      <td>0.117334</td>\n",
       "    </tr>\n",
       "    <tr>\n",
       "      <th>30-39</th>\n",
       "      <td>23183</td>\n",
       "      <td>0.100720</td>\n",
       "    </tr>\n",
       "    <tr>\n",
       "      <th>40-49</th>\n",
       "      <td>34377</td>\n",
       "      <td>0.083719</td>\n",
       "    </tr>\n",
       "    <tr>\n",
       "      <th>50-59</th>\n",
       "      <td>35301</td>\n",
       "      <td>0.064531</td>\n",
       "    </tr>\n",
       "    <tr>\n",
       "      <th>60-69</th>\n",
       "      <td>28905</td>\n",
       "      <td>0.036326</td>\n",
       "    </tr>\n",
       "    <tr>\n",
       "      <th>70+</th>\n",
       "      <td>19413</td>\n",
       "      <td>0.023180</td>\n",
       "    </tr>\n",
       "  </tbody>\n",
       "</table>\n",
       "</div>"
      ],
      "text/plain": [
       "             SeriousDlqin2yrs  SeriousDlqin2yrs\n",
       "age_grouped                                    \n",
       "0-29                     8821          0.117334\n",
       "30-39                   23183          0.100720\n",
       "40-49                   34377          0.083719\n",
       "50-59                   35301          0.064531\n",
       "60-69                   28905          0.036326\n",
       "70+                     19413          0.023180"
      ]
     },
     "execution_count": 16,
     "metadata": {},
     "output_type": "execute_result"
    }
   ],
   "source": [
    "mask = data['SeriousDlqin2yrs'].notnull()\n",
    "bins = [0, 30, 40, 50, 60, 70, 110]\n",
    "labels = ['0-29', '30-39', '40-49', '50-59', '60-69', '70+']\n",
    "data['age_grouped'] = pd.cut(data['age'], bins, right=0, labels=labels)\n",
    "groups = data[mask].groupby('age_grouped')['SeriousDlqin2yrs']\n",
    "pd.concat([groups.count(), groups.mean()], axis=1)"
   ]
  },
  {
   "cell_type": "code",
   "execution_count": 17,
   "metadata": {},
   "outputs": [
    {
     "data": {
      "text/plain": [
       "<matplotlib.axes._subplots.AxesSubplot at 0x1f1a5f16160>"
      ]
     },
     "execution_count": 17,
     "metadata": {},
     "output_type": "execute_result"
    },
    {
     "data": {
      "image/png": "[encoded data removed]",
      "text/plain": [
       "<Figure size 432x288 with 1 Axes>"
      ]
     },
     "metadata": {
      "needs_background": "light"
     },
     "output_type": "display_data"
    }
   ],
   "source": [
    "groups.count().plot.bar()"
   ]
  },
  {
   "cell_type": "code",
   "execution_count": 18,
   "metadata": {},
   "outputs": [
    {
     "data": {
      "text/plain": [
       "<matplotlib.axes._subplots.AxesSubplot at 0x1f1a560c630>"
      ]
     },
     "execution_count": 18,
     "metadata": {},
     "output_type": "execute_result"
    },
    {
     "data": {
      "image/png": "[encoded data removed]",
      "text/plain": [
       "<Figure size 432x288 with 1 Axes>"
      ]
     },
     "metadata": {
      "needs_background": "light"
     },
     "output_type": "display_data"
    }
   ],
   "source": [
    "sns.countplot(x = \"age_grouped\", hue = \"SeriousDlqin2yrs\", data = data)"
   ]
  },
  {
   "cell_type": "markdown",
   "metadata": {},
   "source": [
    "### Wstępna normalizacja"
   ]
  },
  {
   "cell_type": "markdown",
   "metadata": {},
   "source": [
    "Przy prostej analzie danych za pomocą wykresów możemy dojść do wniosku, że wiek lepiej się spisuje jako zmienna kategoryczna, a wcześniej dodaną kolumnę z jego zakresem możemy łatwo wykorzystać przy tworzeniu modelu regresyjnego. Tym samym dokonaliśmy wstępnej normalizacji danych dla wieku. Kolejnym ciekawym wnioskiem jaki możemy wyciągnąć jest to, że wiek w stosunku do zmiennej dyskretnej dla której chcemy stworzyć model ma rozkład normalny."
   ]
  },
  {
   "cell_type": "code",
   "execution_count": 19,
   "metadata": {},
   "outputs": [],
   "source": [
    "#data = data.drop('age_grouped', axis=1) "
   ]
  },
  {
   "cell_type": "markdown",
   "metadata": {},
   "source": [
    "### Ilość osób na utrzymaniu"
   ]
  },
  {
   "cell_type": "code",
   "execution_count": 20,
   "metadata": {},
   "outputs": [
    {
     "data": {
      "text/plain": [
       "<matplotlib.axes._subplots.AxesSubplot at 0x1f1a7f87dd8>"
      ]
     },
     "execution_count": 20,
     "metadata": {},
     "output_type": "execute_result"
    },
    {
     "data": {
      "image/png": "[encoded data removed]",
      "text/plain": [
       "<Figure size 432x288 with 1 Axes>"
      ]
     },
     "metadata": {
      "needs_background": "light"
     },
     "output_type": "display_data"
    }
   ],
   "source": [
    "sns.distplot(data[data['NumberOfDependents'].notnull()]['NumberOfDependents'], bins=10)"
   ]
  },
  {
   "cell_type": "code",
   "execution_count": 21,
   "metadata": {},
   "outputs": [
    {
     "data": {
      "text/html": [
       "<div>\n",
       "<style scoped>\n",
       "    .dataframe tbody tr th:only-of-type {\n",
       "        vertical-align: middle;\n",
       "    }\n",
       "\n",
       "    .dataframe tbody tr th {\n",
       "        vertical-align: top;\n",
       "    }\n",
       "\n",
       "    .dataframe thead th {\n",
       "        text-align: right;\n",
       "    }\n",
       "</style>\n",
       "<table border=\"1\" class=\"dataframe\">\n",
       "  <thead>\n",
       "    <tr style=\"text-align: right;\">\n",
       "      <th></th>\n",
       "      <th>SeriousDlqin2yrs</th>\n",
       "      <th>SeriousDlqin2yrs</th>\n",
       "    </tr>\n",
       "    <tr>\n",
       "      <th>num_dep_grouped</th>\n",
       "      <th></th>\n",
       "      <th></th>\n",
       "    </tr>\n",
       "  </thead>\n",
       "  <tbody>\n",
       "    <tr>\n",
       "      <th>0</th>\n",
       "      <td>86902</td>\n",
       "      <td>0.058629</td>\n",
       "    </tr>\n",
       "    <tr>\n",
       "      <th>1</th>\n",
       "      <td>26316</td>\n",
       "      <td>0.073529</td>\n",
       "    </tr>\n",
       "    <tr>\n",
       "      <th>2-3</th>\n",
       "      <td>29005</td>\n",
       "      <td>0.083468</td>\n",
       "    </tr>\n",
       "    <tr>\n",
       "      <th>4+</th>\n",
       "      <td>3853</td>\n",
       "      <td>0.102777</td>\n",
       "    </tr>\n",
       "  </tbody>\n",
       "</table>\n",
       "</div>"
      ],
      "text/plain": [
       "                 SeriousDlqin2yrs  SeriousDlqin2yrs\n",
       "num_dep_grouped                                    \n",
       "0                           86902          0.058629\n",
       "1                           26316          0.073529\n",
       "2-3                         29005          0.083468\n",
       "4+                           3853          0.102777"
      ]
     },
     "execution_count": 21,
     "metadata": {},
     "output_type": "execute_result"
    }
   ],
   "source": [
    "bins = [0, 1, 2, 4, \n",
    "       data['NumberOfDependents'].max()]\n",
    "labels = ['0', '1', '2-3', '4+']\n",
    "data['num_dep_grouped'] = pd.cut(data['NumberOfDependents'], bins, right=0, labels=labels)\n",
    "\n",
    "mask = data['SeriousDlqin2yrs'].notnull()\n",
    "gb = data[mask].groupby('num_dep_grouped')['SeriousDlqin2yrs']\n",
    "\n",
    "pd.concat([gb.count(), gb.mean()], axis=1)"
   ]
  },
  {
   "cell_type": "code",
   "execution_count": 22,
   "metadata": {
    "scrolled": false
   },
   "outputs": [
    {
     "data": {
      "text/plain": [
       "<matplotlib.axes._subplots.AxesSubplot at 0x1f1a8252f28>"
      ]
     },
     "execution_count": 22,
     "metadata": {},
     "output_type": "execute_result"
    },
    {
     "data": {
      "image/png": "[encoded data removed]",
      "text/plain": [
       "<Figure size 432x288 with 1 Axes>"
      ]
     },
     "metadata": {
      "needs_background": "light"
     },
     "output_type": "display_data"
    }
   ],
   "source": [
    "gb.count().plot.bar()"
   ]
  },
  {
   "cell_type": "markdown",
   "metadata": {},
   "source": [
    "### Miesięczny Dochód"
   ]
  },
  {
   "cell_type": "markdown",
   "metadata": {},
   "source": [
    "Jako, że dochód miesięczny ma dużą liczbę pustych wartości zastąpimy je na początku medianą, co nie wpłynie negatywnie na model (średnia byłaby za dużo ze względu na duży rozstrzał w danych)."
   ]
  },
  {
   "cell_type": "code",
   "execution_count": 23,
   "metadata": {},
   "outputs": [
    {
     "data": {
      "text/plain": [
       "<matplotlib.axes._subplots.AxesSubplot at 0x1f1a82b4898>"
      ]
     },
     "execution_count": 23,
     "metadata": {},
     "output_type": "execute_result"
    },
    {
     "data": {
      "image/png": "[encoded data removed]",
      "text/plain": [
       "<Figure size 432x288 with 1 Axes>"
      ]
     },
     "metadata": {
      "needs_background": "light"
     },
     "output_type": "display_data"
    }
   ],
   "source": [
    "data['MonthlyIncome'] = data['MonthlyIncome'].fillna(data.MonthlyIncome.median())\n",
    "data['MonthlyIncome'].plot() #oś X to nr. krotki, a oś Y to dochód, możemy zauważyć dużą robieżność w danych"
   ]
  },
  {
   "cell_type": "code",
   "execution_count": 24,
   "metadata": {},
   "outputs": [
    {
     "data": {
      "text/plain": [
       "<matplotlib.axes._subplots.AxesSubplot at 0x1f1a83248d0>"
      ]
     },
     "execution_count": 24,
     "metadata": {},
     "output_type": "execute_result"
    },
    {
     "data": {
      "image/png": "[encoded data removed]",
      "text/plain": [
       "<Figure size 432x288 with 1 Axes>"
      ]
     },
     "metadata": {
      "needs_background": "light"
     },
     "output_type": "display_data"
    }
   ],
   "source": [
    "sns.distplot(data[data['MonthlyIncome'].notnull()]['MonthlyIncome'],bins=10)"
   ]
  },
  {
   "cell_type": "markdown",
   "metadata": {},
   "source": [
    "Możemy zauważyć na wykresie dystrbuanty, że Miesięczny dochód ma strasznie dużo wartości odstających co może pogorszyć nasz model. Warto byłoby to znormalizować lub regularyzować. Tutaj dobrym dzielnikiem będzie kwota 10 000 jako, że osoba, która zarabia najwięcej (800 000) nieco pogarsza nam rozkład"
   ]
  },
  {
   "cell_type": "code",
   "execution_count": 25,
   "metadata": {},
   "outputs": [
    {
     "data": {
      "text/plain": [
       "<matplotlib.axes._subplots.AxesSubplot at 0x1f1a86715c0>"
      ]
     },
     "execution_count": 25,
     "metadata": {},
     "output_type": "execute_result"
    },
    {
     "data": {
      "image/png": "[encoded data removed]",
      "text/plain": [
       "<Figure size 432x288 with 1 Axes>"
      ]
     },
     "metadata": {
      "needs_background": "light"
     },
     "output_type": "display_data"
    }
   ],
   "source": [
    "data['income_log'] = (data['MonthlyIncome']/10000).apply(np.log1p)\n",
    "sns.distplot(data['income_log'], bins=100)"
   ]
  },
  {
   "cell_type": "code",
   "execution_count": 26,
   "metadata": {},
   "outputs": [
    {
     "data": {
      "text/plain": [
       "<matplotlib.axes._subplots.AxesSubplot at 0x1f1a8752780>"
      ]
     },
     "execution_count": 26,
     "metadata": {},
     "output_type": "execute_result"
    },
    {
     "data": {
      "image/png": "[encoded data removed]",
      "text/plain": [
       "<Figure size 432x288 with 1 Axes>"
      ]
     },
     "metadata": {
      "needs_background": "light"
     },
     "output_type": "display_data"
    }
   ],
   "source": [
    "data['income_log'].plot()"
   ]
  },
  {
   "cell_type": "markdown",
   "metadata": {},
   "source": [
    "### Ciekawostka: Pandas Profiling"
   ]
  },
  {
   "cell_type": "markdown",
   "metadata": {},
   "source": [
    "To statystyczny \"kombajn\", który przeanalizuje dużo czynników za nas :) Nie jest może super dokładny, ale niekiedy może być pomocny we wstępnej analizie :)  Potwierdził też część wcześniej wyciągniętych wniosków np. odnośnie zaległych dni ze spłatą."
   ]
  },
  {
   "cell_type": "code",
   "execution_count": 27,
   "metadata": {
    "scrolled": true
   },
   "outputs": [],
   "source": [
    "#import pandas_profiling\n",
    "#pandas_profiling.ProfileReport(data)"
   ]
  },
  {
   "cell_type": "markdown",
   "metadata": {},
   "source": [
    "## Tworzenie modelu i podział danych"
   ]
  },
  {
   "cell_type": "code",
   "execution_count": 28,
   "metadata": {},
   "outputs": [],
   "source": [
    "from sklearn.model_selection import train_test_split, GridSearchCV\n",
    "from sklearn.metrics import f1_score, roc_auc_score, confusion_matrix"
   ]
  },
  {
   "cell_type": "markdown",
   "metadata": {},
   "source": [
    "### Wydzielenie danych "
   ]
  },
  {
   "cell_type": "code",
   "execution_count": 29,
   "metadata": {},
   "outputs": [
    {
     "name": "stdout",
     "output_type": "stream",
     "text": [
      "<class 'pandas.core.frame.DataFrame'>\n",
      "RangeIndex: 251503 entries, 0 to 251502\n",
      "Data columns (total 5 columns):\n",
      "SeriousDlqin2yrs    150000 non-null float64\n",
      "DaysLate_90+        251503 non-null int32\n",
      "age_grouped         251503 non-null category\n",
      "num_dep_grouped     244952 non-null category\n",
      "income_log          251503 non-null float64\n",
      "dtypes: category(2), float64(2), int32(1)\n",
      "memory usage: 5.3 MB\n"
     ]
    }
   ],
   "source": [
    "# Usuwanie z datasetu niepotrzebnych danych (lub danych niepewnych)\n",
    "clean_data = data.drop(['RevolvingUtilizationOfUnsecuredLines',\n",
    "              'age',\n",
    "              'DebtRatio',\n",
    "              'MonthlyIncome',\n",
    "              'NumberOfDependents',\n",
    "              'NumberOfOpenCreditLinesAndLoans', \n",
    "              'NumberRealEstateLoansOrLines',\n",
    "              'NumberOfTime30-59DaysPastDueNotWorse',\n",
    "              'NumberOfTime60-89DaysPastDueNotWorse',\n",
    "              'NumberOfTimes90DaysLate'\n",
    "              ], axis=1)\n",
    "clean_data.info()\n",
    "\n"
   ]
  },
  {
   "cell_type": "code",
   "execution_count": 30,
   "metadata": {},
   "outputs": [
    {
     "name": "stdout",
     "output_type": "stream",
     "text": [
      "<class 'pandas.core.frame.DataFrame'>\n",
      "RangeIndex: 251503 entries, 0 to 251502\n",
      "Data columns (total 11 columns):\n",
      "SeriousDlqin2yrs       150000 non-null float64\n",
      "DaysLate_90+           251503 non-null int32\n",
      "income_log             251503 non-null float64\n",
      "age_grouped_30-39      251503 non-null uint8\n",
      "age_grouped_40-49      251503 non-null uint8\n",
      "age_grouped_50-59      251503 non-null uint8\n",
      "age_grouped_60-69      251503 non-null uint8\n",
      "age_grouped_70+        251503 non-null uint8\n",
      "num_dep_grouped_1      251503 non-null uint8\n",
      "num_dep_grouped_2-3    251503 non-null uint8\n",
      "num_dep_grouped_4+     251503 non-null uint8\n",
      "dtypes: float64(2), int32(1), uint8(8)\n",
      "memory usage: 6.7 MB\n"
     ]
    }
   ],
   "source": [
    "cleaned_dataset = pd.get_dummies(clean_data, drop_first=True)\n",
    "cleaned_dataset.info()"
   ]
  },
  {
   "cell_type": "code",
   "execution_count": 31,
   "metadata": {},
   "outputs": [],
   "source": [
    "X0 = cleaned_dataset[data['SeriousDlqin2yrs']==0].drop('SeriousDlqin2yrs', axis=1)\n",
    "X1 = cleaned_dataset[data['SeriousDlqin2yrs']==1].drop('SeriousDlqin2yrs', axis=1)\n",
    "y0 = cleaned_dataset[data['SeriousDlqin2yrs']==0]['SeriousDlqin2yrs']\n",
    "y1 = cleaned_dataset[data['SeriousDlqin2yrs']==1]['SeriousDlqin2yrs']"
   ]
  },
  {
   "cell_type": "code",
   "execution_count": 32,
   "metadata": {},
   "outputs": [
    {
     "name": "stdout",
     "output_type": "stream",
     "text": [
      "(139974, 10) (10026, 10) (139974,) (10026,)\n"
     ]
    }
   ],
   "source": [
    "print(X0.shape, X1.shape, y0.shape, y1.shape)"
   ]
  },
  {
   "cell_type": "code",
   "execution_count": 33,
   "metadata": {},
   "outputs": [
    {
     "data": {
      "text/html": [
       "<div>\n",
       "<style scoped>\n",
       "    .dataframe tbody tr th:only-of-type {\n",
       "        vertical-align: middle;\n",
       "    }\n",
       "\n",
       "    .dataframe tbody tr th {\n",
       "        vertical-align: top;\n",
       "    }\n",
       "\n",
       "    .dataframe thead th {\n",
       "        text-align: right;\n",
       "    }\n",
       "</style>\n",
       "<table border=\"1\" class=\"dataframe\">\n",
       "  <thead>\n",
       "    <tr style=\"text-align: right;\">\n",
       "      <th></th>\n",
       "      <th>count</th>\n",
       "      <th>mean</th>\n",
       "      <th>std</th>\n",
       "      <th>min</th>\n",
       "      <th>25%</th>\n",
       "      <th>50%</th>\n",
       "      <th>75%</th>\n",
       "      <th>max</th>\n",
       "    </tr>\n",
       "  </thead>\n",
       "  <tbody>\n",
       "    <tr>\n",
       "      <th>DaysLate_90+</th>\n",
       "      <td>139974.0</td>\n",
       "      <td>0.034764</td>\n",
       "      <td>0.183181</td>\n",
       "      <td>0.0</td>\n",
       "      <td>0.000000</td>\n",
       "      <td>0.000000</td>\n",
       "      <td>0.000000</td>\n",
       "      <td>1.000000</td>\n",
       "    </tr>\n",
       "    <tr>\n",
       "      <th>income_log</th>\n",
       "      <td>139974.0</td>\n",
       "      <td>0.461658</td>\n",
       "      <td>0.235029</td>\n",
       "      <td>0.0</td>\n",
       "      <td>0.336472</td>\n",
       "      <td>0.431782</td>\n",
       "      <td>0.559616</td>\n",
       "      <td>5.710013</td>\n",
       "    </tr>\n",
       "    <tr>\n",
       "      <th>age_grouped_30-39</th>\n",
       "      <td>139974.0</td>\n",
       "      <td>0.148942</td>\n",
       "      <td>0.356033</td>\n",
       "      <td>0.0</td>\n",
       "      <td>0.000000</td>\n",
       "      <td>0.000000</td>\n",
       "      <td>0.000000</td>\n",
       "      <td>1.000000</td>\n",
       "    </tr>\n",
       "    <tr>\n",
       "      <th>age_grouped_40-49</th>\n",
       "      <td>139974.0</td>\n",
       "      <td>0.225035</td>\n",
       "      <td>0.417607</td>\n",
       "      <td>0.0</td>\n",
       "      <td>0.000000</td>\n",
       "      <td>0.000000</td>\n",
       "      <td>0.000000</td>\n",
       "      <td>1.000000</td>\n",
       "    </tr>\n",
       "    <tr>\n",
       "      <th>age_grouped_50-59</th>\n",
       "      <td>139974.0</td>\n",
       "      <td>0.235922</td>\n",
       "      <td>0.424575</td>\n",
       "      <td>0.0</td>\n",
       "      <td>0.000000</td>\n",
       "      <td>0.000000</td>\n",
       "      <td>0.000000</td>\n",
       "      <td>1.000000</td>\n",
       "    </tr>\n",
       "    <tr>\n",
       "      <th>age_grouped_60-69</th>\n",
       "      <td>139974.0</td>\n",
       "      <td>0.199001</td>\n",
       "      <td>0.399250</td>\n",
       "      <td>0.0</td>\n",
       "      <td>0.000000</td>\n",
       "      <td>0.000000</td>\n",
       "      <td>0.000000</td>\n",
       "      <td>1.000000</td>\n",
       "    </tr>\n",
       "    <tr>\n",
       "      <th>age_grouped_70+</th>\n",
       "      <td>139974.0</td>\n",
       "      <td>0.135475</td>\n",
       "      <td>0.342232</td>\n",
       "      <td>0.0</td>\n",
       "      <td>0.000000</td>\n",
       "      <td>0.000000</td>\n",
       "      <td>0.000000</td>\n",
       "      <td>1.000000</td>\n",
       "    </tr>\n",
       "    <tr>\n",
       "      <th>num_dep_grouped_1</th>\n",
       "      <td>139974.0</td>\n",
       "      <td>0.174182</td>\n",
       "      <td>0.379268</td>\n",
       "      <td>0.0</td>\n",
       "      <td>0.000000</td>\n",
       "      <td>0.000000</td>\n",
       "      <td>0.000000</td>\n",
       "      <td>1.000000</td>\n",
       "    </tr>\n",
       "    <tr>\n",
       "      <th>num_dep_grouped_2-3</th>\n",
       "      <td>139974.0</td>\n",
       "      <td>0.189921</td>\n",
       "      <td>0.392240</td>\n",
       "      <td>0.0</td>\n",
       "      <td>0.000000</td>\n",
       "      <td>0.000000</td>\n",
       "      <td>0.000000</td>\n",
       "      <td>1.000000</td>\n",
       "    </tr>\n",
       "    <tr>\n",
       "      <th>num_dep_grouped_4+</th>\n",
       "      <td>139974.0</td>\n",
       "      <td>0.024697</td>\n",
       "      <td>0.155202</td>\n",
       "      <td>0.0</td>\n",
       "      <td>0.000000</td>\n",
       "      <td>0.000000</td>\n",
       "      <td>0.000000</td>\n",
       "      <td>1.000000</td>\n",
       "    </tr>\n",
       "  </tbody>\n",
       "</table>\n",
       "</div>"
      ],
      "text/plain": [
       "                        count      mean       std  min       25%       50%  \\\n",
       "DaysLate_90+         139974.0  0.034764  0.183181  0.0  0.000000  0.000000   \n",
       "income_log           139974.0  0.461658  0.235029  0.0  0.336472  0.431782   \n",
       "age_grouped_30-39    139974.0  0.148942  0.356033  0.0  0.000000  0.000000   \n",
       "age_grouped_40-49    139974.0  0.225035  0.417607  0.0  0.000000  0.000000   \n",
       "age_grouped_50-59    139974.0  0.235922  0.424575  0.0  0.000000  0.000000   \n",
       "age_grouped_60-69    139974.0  0.199001  0.399250  0.0  0.000000  0.000000   \n",
       "age_grouped_70+      139974.0  0.135475  0.342232  0.0  0.000000  0.000000   \n",
       "num_dep_grouped_1    139974.0  0.174182  0.379268  0.0  0.000000  0.000000   \n",
       "num_dep_grouped_2-3  139974.0  0.189921  0.392240  0.0  0.000000  0.000000   \n",
       "num_dep_grouped_4+   139974.0  0.024697  0.155202  0.0  0.000000  0.000000   \n",
       "\n",
       "                          75%       max  \n",
       "DaysLate_90+         0.000000  1.000000  \n",
       "income_log           0.559616  5.710013  \n",
       "age_grouped_30-39    0.000000  1.000000  \n",
       "age_grouped_40-49    0.000000  1.000000  \n",
       "age_grouped_50-59    0.000000  1.000000  \n",
       "age_grouped_60-69    0.000000  1.000000  \n",
       "age_grouped_70+      0.000000  1.000000  \n",
       "num_dep_grouped_1    0.000000  1.000000  \n",
       "num_dep_grouped_2-3  0.000000  1.000000  \n",
       "num_dep_grouped_4+   0.000000  1.000000  "
      ]
     },
     "execution_count": 33,
     "metadata": {},
     "output_type": "execute_result"
    }
   ],
   "source": [
    "X0.describe().T"
   ]
  },
  {
   "cell_type": "code",
   "execution_count": 34,
   "metadata": {},
   "outputs": [
    {
     "data": {
      "text/plain": [
       "count    10026.0\n",
       "mean         1.0\n",
       "std          0.0\n",
       "min          1.0\n",
       "25%          1.0\n",
       "50%          1.0\n",
       "75%          1.0\n",
       "max          1.0\n",
       "Name: SeriousDlqin2yrs, dtype: float64"
      ]
     },
     "execution_count": 34,
     "metadata": {},
     "output_type": "execute_result"
    }
   ],
   "source": [
    "y1.describe()"
   ]
  },
  {
   "cell_type": "code",
   "execution_count": 35,
   "metadata": {},
   "outputs": [
    {
     "name": "stdout",
     "output_type": "stream",
     "text": [
      "(150000, 10) (150000,)\n"
     ]
    }
   ],
   "source": [
    "X  = pd.concat([X0, X1])\n",
    "y  = pd.concat([y0, y1])\n",
    "print(X.shape, y.shape)"
   ]
  },
  {
   "cell_type": "code",
   "execution_count": 36,
   "metadata": {},
   "outputs": [],
   "source": [
    "X_train, X_test, y_train, y_test = train_test_split(X, y, test_size=0.25, shuffle=True, random_state=42)"
   ]
  },
  {
   "cell_type": "markdown",
   "metadata": {},
   "source": [
    "### Model Regresji Liniowej"
   ]
  },
  {
   "cell_type": "code",
   "execution_count": 37,
   "metadata": {},
   "outputs": [],
   "source": [
    "from sklearn.linear_model import LinearRegression\n",
    "from sklearn.metrics import mean_squared_error\n",
    "import math"
   ]
  },
  {
   "cell_type": "code",
   "execution_count": 38,
   "metadata": {},
   "outputs": [],
   "source": [
    "model = LinearRegression().fit(X_train, y_train)"
   ]
  },
  {
   "cell_type": "code",
   "execution_count": 39,
   "metadata": {},
   "outputs": [
    {
     "name": "stdout",
     "output_type": "stream",
     "text": [
      "Score: 0.121109\n",
      "AUC score: 0.740742\n",
      "train RMSE =  0.2337512330967223\n",
      "test RMSE =  0.23437195012809658\n"
     ]
    }
   ],
   "source": [
    "#It measures how many observations, both positive and negative, were correctly classified\n",
    "print('Score: %.6f' % model.score(X_test, y_test))\n",
    "#Tradeoff between true positive rate (TPR) and false positive rate (FPR) (oprócze tego jest jest false positive i false negative)\n",
    "print('AUC score: %.6f' %  roc_auc_score(y_test, model.predict(X_test)))\n",
    "print('train RMSE = ',math.sqrt(mean_squared_error(model.predict(X_train),y_train)))\n",
    "print('test RMSE = ',math.sqrt(mean_squared_error(model.predict(X_test),y_test)))\n",
    "#print('baseline RMSE = ', baseline_RMSE)"
   ]
  },
  {
   "cell_type": "markdown",
   "metadata": {},
   "source": [
    "Jak widzimy regresja liniowa poradziła sobie tutaj nad wyraz słabo, pomimo całkiem nie najgorszego progu AUC, score=0.11 jest szczególnie niski (kom: nie do końca jestem pewien, czy nie jest to wynik zbyt niski (wyjaśnienie w nastepnym wniosku) warto się nad tym jeszcze zastanowić).\n",
    "Wyjaśnienie poszczególnych metryk: https://neptune.ai/blog/f1-score-accuracy-roc-auc-pr-auc"
   ]
  },
  {
   "cell_type": "markdown",
   "metadata": {},
   "source": [
    "### Model Regresji Logistycznej (moodel bazujący na zmiennych 0/1)"
   ]
  },
  {
   "cell_type": "code",
   "execution_count": 40,
   "metadata": {},
   "outputs": [],
   "source": [
    "from sklearn.linear_model import LogisticRegression\n",
    "from sklearn.metrics import accuracy_score"
   ]
  },
  {
   "cell_type": "code",
   "execution_count": 41,
   "metadata": {},
   "outputs": [],
   "source": [
    "classifier = LogisticRegression(solver='lbfgs').fit(X_train, y_train)\n",
    "y_predicted = classifier.predict(X_test)"
   ]
  },
  {
   "cell_type": "code",
   "execution_count": 42,
   "metadata": {},
   "outputs": [
    {
     "name": "stdout",
     "output_type": "stream",
     "text": [
      "Accuracy: 0.9324\n",
      "Amount of correctly classified samples: 34965\n",
      "Amount of test samples: 37500\n"
     ]
    }
   ],
   "source": [
    "accuracy = accuracy_score(y_test, y_predicted)\n",
    "no_correct = accuracy_score(y_test, y_predicted, normalize=False)\n",
    "no_of_test_samples = len(y_test)\n",
    "\n",
    "#print('Score: %.6f' % classifier.score(X_test, y_test))\n",
    "print(\"Accuracy: {}\".format(accuracy))\n",
    "print(\"Amount of correctly classified samples: {}\".format(no_correct))\n",
    "print(\"Amount of test samples: {}\".format(no_of_test_samples))"
   ]
  },
  {
   "cell_type": "markdown",
   "metadata": {},
   "source": [
    "Wynik 93% jest nad wyraz wysoki, prawdopodbnie popełnione zostały błędy (model jest zoverfittowany), z drugiej strony próbujemy wyznaczyć zmienną binarną co dla naszego dość niewielkiego zbioru danych jest \"łatwe do zgadnięcia\". Np. w grze arkanoid, poruszając pojazdem prawo lewo lub po prostu losowo, my (czy nawet maszyna) też jest w stanie zdobyć całkiem wysoki wynik (Źródło wniosków: https://www.youtube.com/watch?v=XDMNm7PQpxk)."
   ]
  },
  {
   "cell_type": "markdown",
   "metadata": {},
   "source": [
    "### K-nearest Neightbours"
   ]
  },
  {
   "cell_type": "markdown",
   "metadata": {},
   "source": [
    "**Krótka charakterytyka:** <br />\n",
    "KNN może działać w zasadzie na jakichkolwiek danych. Możemy tutaj wykorzystać wczesniej wyczyszczone dane lub nawet dane w stanie nietkniętym i porównać oba modele. Główną jego zaletą nad np. regresją liniową jest to, że dużo lepiej radzi sobie dla danych jakościowych. Z drugiej strony bardzo ważny jest w nim dobór <a href=\"https://scikit-learn.org/stable/modules/generated/sklearn.neighbors.DistanceMetric.html\">metryki</a> (w tym wypadku dystans sąsiadów) o czym można się przekonać poniżej. Algorytm ten jest bardzo dość wolny, ze względu na swoją dokładność. Jest też bardzo łatwy w implementacji, ale za to wrażliwy na nieznormalizowane dane.<br />\n",
    "<br />\n",
    "KNN ma w zasadzie jeden parametr, co sprawia, że znalezienie jego optymalnej wartości jest często dużo prostsze, niż np. w sieciach neuronowych, gdzie jest ich zazwyczaj dużo więcej. \n",
    "<br />\n",
    "<br />\n",
    "KNN jest też wrażliwy na skalowanie danych. Dobrze jest wcześniej znormalizować/przeskalować/zregularyzować dane, aby przyjmowały wartości w tej samej skali."
   ]
  },
  {
   "cell_type": "code",
   "execution_count": 43,
   "metadata": {},
   "outputs": [
    {
     "data": {
      "text/html": [
       "<div>\n",
       "<style scoped>\n",
       "    .dataframe tbody tr th:only-of-type {\n",
       "        vertical-align: middle;\n",
       "    }\n",
       "\n",
       "    .dataframe tbody tr th {\n",
       "        vertical-align: top;\n",
       "    }\n",
       "\n",
       "    .dataframe thead th {\n",
       "        text-align: right;\n",
       "    }\n",
       "</style>\n",
       "<table border=\"1\" class=\"dataframe\">\n",
       "  <thead>\n",
       "    <tr style=\"text-align: right;\">\n",
       "      <th></th>\n",
       "      <th>SeriousDlqin2yrs</th>\n",
       "      <th>RevolvingUtilizationOfUnsecuredLines</th>\n",
       "      <th>age</th>\n",
       "      <th>NumberOfTime30-59DaysPastDueNotWorse</th>\n",
       "      <th>DebtRatio</th>\n",
       "      <th>MonthlyIncome</th>\n",
       "      <th>NumberOfOpenCreditLinesAndLoans</th>\n",
       "      <th>NumberOfTimes90DaysLate</th>\n",
       "      <th>NumberRealEstateLoansOrLines</th>\n",
       "      <th>NumberOfTime60-89DaysPastDueNotWorse</th>\n",
       "      <th>NumberOfDependents</th>\n",
       "      <th>DaysLate_90+</th>\n",
       "      <th>age_grouped</th>\n",
       "      <th>num_dep_grouped</th>\n",
       "      <th>income_log</th>\n",
       "    </tr>\n",
       "  </thead>\n",
       "  <tbody>\n",
       "    <tr>\n",
       "      <th>0</th>\n",
       "      <td>1.0</td>\n",
       "      <td>0.766127</td>\n",
       "      <td>45</td>\n",
       "      <td>2</td>\n",
       "      <td>0.802982</td>\n",
       "      <td>9120.0</td>\n",
       "      <td>13</td>\n",
       "      <td>0</td>\n",
       "      <td>6</td>\n",
       "      <td>0</td>\n",
       "      <td>2.0</td>\n",
       "      <td>0</td>\n",
       "      <td>40-49</td>\n",
       "      <td>2-3</td>\n",
       "      <td>0.648150</td>\n",
       "    </tr>\n",
       "    <tr>\n",
       "      <th>1</th>\n",
       "      <td>0.0</td>\n",
       "      <td>0.957151</td>\n",
       "      <td>40</td>\n",
       "      <td>0</td>\n",
       "      <td>0.121876</td>\n",
       "      <td>2600.0</td>\n",
       "      <td>4</td>\n",
       "      <td>0</td>\n",
       "      <td>0</td>\n",
       "      <td>0</td>\n",
       "      <td>1.0</td>\n",
       "      <td>0</td>\n",
       "      <td>40-49</td>\n",
       "      <td>1</td>\n",
       "      <td>0.231112</td>\n",
       "    </tr>\n",
       "    <tr>\n",
       "      <th>2</th>\n",
       "      <td>0.0</td>\n",
       "      <td>0.658180</td>\n",
       "      <td>38</td>\n",
       "      <td>1</td>\n",
       "      <td>0.085113</td>\n",
       "      <td>3042.0</td>\n",
       "      <td>2</td>\n",
       "      <td>1</td>\n",
       "      <td>0</td>\n",
       "      <td>0</td>\n",
       "      <td>0.0</td>\n",
       "      <td>1</td>\n",
       "      <td>30-39</td>\n",
       "      <td>0</td>\n",
       "      <td>0.265590</td>\n",
       "    </tr>\n",
       "    <tr>\n",
       "      <th>3</th>\n",
       "      <td>0.0</td>\n",
       "      <td>0.233810</td>\n",
       "      <td>30</td>\n",
       "      <td>0</td>\n",
       "      <td>0.036050</td>\n",
       "      <td>3300.0</td>\n",
       "      <td>5</td>\n",
       "      <td>0</td>\n",
       "      <td>0</td>\n",
       "      <td>0</td>\n",
       "      <td>0.0</td>\n",
       "      <td>0</td>\n",
       "      <td>30-39</td>\n",
       "      <td>0</td>\n",
       "      <td>0.285179</td>\n",
       "    </tr>\n",
       "    <tr>\n",
       "      <th>4</th>\n",
       "      <td>0.0</td>\n",
       "      <td>0.907239</td>\n",
       "      <td>49</td>\n",
       "      <td>1</td>\n",
       "      <td>0.024926</td>\n",
       "      <td>63588.0</td>\n",
       "      <td>7</td>\n",
       "      <td>0</td>\n",
       "      <td>1</td>\n",
       "      <td>0</td>\n",
       "      <td>0.0</td>\n",
       "      <td>0</td>\n",
       "      <td>40-49</td>\n",
       "      <td>0</td>\n",
       "      <td>1.995897</td>\n",
       "    </tr>\n",
       "  </tbody>\n",
       "</table>\n",
       "</div>"
      ],
      "text/plain": [
       "   SeriousDlqin2yrs  RevolvingUtilizationOfUnsecuredLines  age  \\\n",
       "0               1.0                              0.766127   45   \n",
       "1               0.0                              0.957151   40   \n",
       "2               0.0                              0.658180   38   \n",
       "3               0.0                              0.233810   30   \n",
       "4               0.0                              0.907239   49   \n",
       "\n",
       "   NumberOfTime30-59DaysPastDueNotWorse  DebtRatio  MonthlyIncome  \\\n",
       "0                                     2   0.802982         9120.0   \n",
       "1                                     0   0.121876         2600.0   \n",
       "2                                     1   0.085113         3042.0   \n",
       "3                                     0   0.036050         3300.0   \n",
       "4                                     1   0.024926        63588.0   \n",
       "\n",
       "   NumberOfOpenCreditLinesAndLoans  NumberOfTimes90DaysLate  \\\n",
       "0                               13                        0   \n",
       "1                                4                        0   \n",
       "2                                2                        1   \n",
       "3                                5                        0   \n",
       "4                                7                        0   \n",
       "\n",
       "   NumberRealEstateLoansOrLines  NumberOfTime60-89DaysPastDueNotWorse  \\\n",
       "0                             6                                     0   \n",
       "1                             0                                     0   \n",
       "2                             0                                     0   \n",
       "3                             0                                     0   \n",
       "4                             1                                     0   \n",
       "\n",
       "   NumberOfDependents  DaysLate_90+ age_grouped num_dep_grouped  income_log  \n",
       "0                 2.0             0       40-49             2-3    0.648150  \n",
       "1                 1.0             0       40-49               1    0.231112  \n",
       "2                 0.0             1       30-39               0    0.265590  \n",
       "3                 0.0             0       30-39               0    0.285179  \n",
       "4                 0.0             0       40-49               0    1.995897  "
      ]
     },
     "execution_count": 43,
     "metadata": {},
     "output_type": "execute_result"
    }
   ],
   "source": [
    "data.head()"
   ]
  },
  {
   "cell_type": "code",
   "execution_count": 44,
   "metadata": {},
   "outputs": [
    {
     "data": {
      "text/html": [
       "<div>\n",
       "<style scoped>\n",
       "    .dataframe tbody tr th:only-of-type {\n",
       "        vertical-align: middle;\n",
       "    }\n",
       "\n",
       "    .dataframe tbody tr th {\n",
       "        vertical-align: top;\n",
       "    }\n",
       "\n",
       "    .dataframe thead th {\n",
       "        text-align: right;\n",
       "    }\n",
       "</style>\n",
       "<table border=\"1\" class=\"dataframe\">\n",
       "  <thead>\n",
       "    <tr style=\"text-align: right;\">\n",
       "      <th></th>\n",
       "      <th>SeriousDlqin2yrs</th>\n",
       "      <th>DaysLate_90+</th>\n",
       "      <th>income_log</th>\n",
       "      <th>age_grouped_30-39</th>\n",
       "      <th>age_grouped_40-49</th>\n",
       "      <th>age_grouped_50-59</th>\n",
       "      <th>age_grouped_60-69</th>\n",
       "      <th>age_grouped_70+</th>\n",
       "      <th>num_dep_grouped_1</th>\n",
       "      <th>num_dep_grouped_2-3</th>\n",
       "      <th>num_dep_grouped_4+</th>\n",
       "    </tr>\n",
       "  </thead>\n",
       "  <tbody>\n",
       "    <tr>\n",
       "      <th>0</th>\n",
       "      <td>1.0</td>\n",
       "      <td>0</td>\n",
       "      <td>0.648150</td>\n",
       "      <td>0</td>\n",
       "      <td>1</td>\n",
       "      <td>0</td>\n",
       "      <td>0</td>\n",
       "      <td>0</td>\n",
       "      <td>0</td>\n",
       "      <td>1</td>\n",
       "      <td>0</td>\n",
       "    </tr>\n",
       "    <tr>\n",
       "      <th>1</th>\n",
       "      <td>0.0</td>\n",
       "      <td>0</td>\n",
       "      <td>0.231112</td>\n",
       "      <td>0</td>\n",
       "      <td>1</td>\n",
       "      <td>0</td>\n",
       "      <td>0</td>\n",
       "      <td>0</td>\n",
       "      <td>1</td>\n",
       "      <td>0</td>\n",
       "      <td>0</td>\n",
       "    </tr>\n",
       "    <tr>\n",
       "      <th>2</th>\n",
       "      <td>0.0</td>\n",
       "      <td>1</td>\n",
       "      <td>0.265590</td>\n",
       "      <td>1</td>\n",
       "      <td>0</td>\n",
       "      <td>0</td>\n",
       "      <td>0</td>\n",
       "      <td>0</td>\n",
       "      <td>0</td>\n",
       "      <td>0</td>\n",
       "      <td>0</td>\n",
       "    </tr>\n",
       "    <tr>\n",
       "      <th>3</th>\n",
       "      <td>0.0</td>\n",
       "      <td>0</td>\n",
       "      <td>0.285179</td>\n",
       "      <td>1</td>\n",
       "      <td>0</td>\n",
       "      <td>0</td>\n",
       "      <td>0</td>\n",
       "      <td>0</td>\n",
       "      <td>0</td>\n",
       "      <td>0</td>\n",
       "      <td>0</td>\n",
       "    </tr>\n",
       "    <tr>\n",
       "      <th>4</th>\n",
       "      <td>0.0</td>\n",
       "      <td>0</td>\n",
       "      <td>1.995897</td>\n",
       "      <td>0</td>\n",
       "      <td>1</td>\n",
       "      <td>0</td>\n",
       "      <td>0</td>\n",
       "      <td>0</td>\n",
       "      <td>0</td>\n",
       "      <td>0</td>\n",
       "      <td>0</td>\n",
       "    </tr>\n",
       "  </tbody>\n",
       "</table>\n",
       "</div>"
      ],
      "text/plain": [
       "   SeriousDlqin2yrs  DaysLate_90+  income_log  age_grouped_30-39  \\\n",
       "0               1.0             0    0.648150                  0   \n",
       "1               0.0             0    0.231112                  0   \n",
       "2               0.0             1    0.265590                  1   \n",
       "3               0.0             0    0.285179                  1   \n",
       "4               0.0             0    1.995897                  0   \n",
       "\n",
       "   age_grouped_40-49  age_grouped_50-59  age_grouped_60-69  age_grouped_70+  \\\n",
       "0                  1                  0                  0                0   \n",
       "1                  1                  0                  0                0   \n",
       "2                  0                  0                  0                0   \n",
       "3                  0                  0                  0                0   \n",
       "4                  1                  0                  0                0   \n",
       "\n",
       "   num_dep_grouped_1  num_dep_grouped_2-3  num_dep_grouped_4+  \n",
       "0                  0                    1                   0  \n",
       "1                  1                    0                   0  \n",
       "2                  0                    0                   0  \n",
       "3                  0                    0                   0  \n",
       "4                  0                    0                   0  "
      ]
     },
     "execution_count": 44,
     "metadata": {},
     "output_type": "execute_result"
    }
   ],
   "source": [
    "cleaned_dataset.head()"
   ]
  },
  {
   "cell_type": "code",
   "execution_count": 45,
   "metadata": {},
   "outputs": [],
   "source": [
    "#sns.pairplot(cleaned_dataset, diag_kind=\"hist\")"
   ]
  },
  {
   "cell_type": "code",
   "execution_count": 48,
   "metadata": {},
   "outputs": [],
   "source": [
    "from sklearn.neighbors import KNeighborsClassifier\n",
    "knn = KNeighborsClassifier(n_neighbors = 5)"
   ]
  },
  {
   "cell_type": "code",
   "execution_count": 49,
   "metadata": {},
   "outputs": [
    {
     "data": {
      "text/plain": [
       "KNeighborsClassifier(algorithm='auto', leaf_size=30, metric='minkowski',\n",
       "                     metric_params=None, n_jobs=None, n_neighbors=5, p=2,\n",
       "                     weights='uniform')"
      ]
     },
     "execution_count": 49,
     "metadata": {},
     "output_type": "execute_result"
    }
   ],
   "source": [
    "knn.fit(X_train, y_train)"
   ]
  },
  {
   "cell_type": "code",
   "execution_count": 50,
   "metadata": {},
   "outputs": [
    {
     "data": {
      "text/plain": [
       "0.9297866666666667"
      ]
     },
     "execution_count": 50,
     "metadata": {},
     "output_type": "execute_result"
    }
   ],
   "source": [
    "knn.score(X_test, y_test)"
   ]
  },
  {
   "cell_type": "markdown",
   "metadata": {},
   "source": [
    "Znowu duży wynik, przypadek, czy może overfitting lub underfitting? Pamiętajmy, że wykonaliśmy tylko test 5 sąsiadów. Sprawdźmy jak bardzo nasz model zmieni się, gdy zwiekszymy lub zmniejszymy ich liczbę."
   ]
  },
  {
   "cell_type": "code",
   "execution_count": 51,
   "metadata": {},
   "outputs": [
    {
     "data": {
      "image/png": "[encoded data removed]",
      "text/plain": [
       "<Figure size 432x288 with 1 Axes>"
      ]
     },
     "metadata": {
      "needs_background": "light"
     },
     "output_type": "display_data"
    }
   ],
   "source": [
    "k_range = range(1,20)\n",
    "scores = []\n",
    "\n",
    "for k in k_range:\n",
    "    knn = KNeighborsClassifier(n_neighbors = k)\n",
    "    knn.fit(X_train, y_train)\n",
    "    scores.append(knn.score(X_test, y_test))\n",
    "\n",
    "plt.figure()\n",
    "plt.xlabel('k')\n",
    "plt.ylabel('accuracy')\n",
    "plt.scatter(k_range, scores)\n",
    "plt.xticks([0,5,10,15,20]);"
   ]
  },
  {
   "cell_type": "code",
   "execution_count": 62,
   "metadata": {},
   "outputs": [
    {
     "data": {
      "text/plain": [
       "[0.8946133333333334,\n",
       " 0.9286933333333334,\n",
       " 0.9252,\n",
       " 0.93072,\n",
       " 0.9297866666666667,\n",
       " 0.9318133333333334,\n",
       " 0.9305333333333333,\n",
       " 0.9318933333333334,\n",
       " 0.9314133333333333,\n",
       " 0.9317066666666667,\n",
       " 0.9316533333333333,\n",
       " 0.9321866666666667,\n",
       " 0.9319466666666667,\n",
       " 0.9319733333333333,\n",
       " 0.93192,\n",
       " 0.9321066666666666,\n",
       " 0.9321066666666666,\n",
       " 0.9321333333333334,\n",
       " 0.9318666666666666]"
      ]
     },
     "execution_count": 62,
     "metadata": {},
     "output_type": "execute_result"
    }
   ],
   "source": [
    "scores"
   ]
  },
  {
   "cell_type": "markdown",
   "metadata": {},
   "source": [
    "### XGBoost"
   ]
  },
  {
   "cell_type": "code",
   "execution_count": 53,
   "metadata": {},
   "outputs": [],
   "source": [
    "from xgboost import XGBClassifier"
   ]
  },
  {
   "cell_type": "code",
   "execution_count": 54,
   "metadata": {},
   "outputs": [],
   "source": [
    "classifier = XGBClassifier().fit(X_train, y_train)"
   ]
  },
  {
   "cell_type": "code",
   "execution_count": 55,
   "metadata": {},
   "outputs": [],
   "source": [
    "y_predicted = classifier.predict(X_test)"
   ]
  },
  {
   "cell_type": "code",
   "execution_count": 59,
   "metadata": {},
   "outputs": [
    {
     "name": "stdout",
     "output_type": "stream",
     "text": [
      "Accuracy: 0.9326133333333333\n",
      "AUC ROC Score: 0.5119794029472524\n",
      "Amount of correctly classified samples: 34973\n",
      "Amount of test samples: 37500\n"
     ]
    }
   ],
   "source": [
    "accuracy = accuracy_score(y_test, y_predicted)\n",
    "no_correct = accuracy_score(y_test, y_predicted, normalize=False)\n",
    "no_of_test_samples = len(y_test)\n",
    "\n",
    "print(\"Accuracy: {}\".format(accuracy))\n",
    "print(\"AUC ROC Score: {}\".format(roc_auc_score(y_test, y_predicted)))\n",
    "print(\"Amount of correctly classified samples: {}\".format(no_correct))\n",
    "print(\"Amount of test samples: {}\".format(no_of_test_samples))"
   ]
  }
 ],
 "metadata": {
  "kernelspec": {
   "display_name": "Python 3",
   "language": "python",
   "name": "python3"
  },
  "language_info": {
   "codemirror_mode": {
    "name": "ipython",
    "version": 3
   },
   "file_extension": ".py",
   "mimetype": "text/x-python",
   "name": "python",
   "nbconvert_exporter": "python",
   "pygments_lexer": "ipython3",
   "version": "3.6.6"
  }
 },
 "nbformat": 4,
 "nbformat_minor": 2
}
